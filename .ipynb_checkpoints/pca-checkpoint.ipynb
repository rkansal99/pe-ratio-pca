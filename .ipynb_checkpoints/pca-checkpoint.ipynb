{
 "cells": [
  {
   "cell_type": "code",
   "execution_count": 1,
   "metadata": {},
   "outputs": [],
   "source": [
    "import numpy as np\n",
    "import pandas as pd\n",
    "import matplotlib.pyplot as plt\n",
    "from sklearn.decomposition import PCA\n",
    "from sklearn import preprocessing\n",
    "\n",
    "rootFolder='/Users/rishabhkansal/repos/pe-ratio-pca' "
   ]
  },
  {
   "cell_type": "code",
   "execution_count": 2,
   "metadata": {},
   "outputs": [
    {
     "data": {
      "text/html": [
       "<div>\n",
       "<style scoped>\n",
       "    .dataframe tbody tr th:only-of-type {\n",
       "        vertical-align: middle;\n",
       "    }\n",
       "\n",
       "    .dataframe tbody tr th {\n",
       "        vertical-align: top;\n",
       "    }\n",
       "\n",
       "    .dataframe thead th {\n",
       "        text-align: right;\n",
       "    }\n",
       "</style>\n",
       "<table border=\"1\" class=\"dataframe\">\n",
       "  <thead>\n",
       "    <tr style=\"text-align: right;\">\n",
       "      <th></th>\n",
       "      <th>EPSGrowthInLastOneYear</th>\n",
       "      <th>AverageEPSforLastTwoYears</th>\n",
       "      <th>AverageRevenueGrowthForLastTwoYear</th>\n",
       "      <th>AnnualPBRatio</th>\n",
       "      <th>Last2YearAvgROA</th>\n",
       "      <th>AnnualDebtEquityRatio</th>\n",
       "      <th>AnnualPERatio</th>\n",
       "      <th>LastQuarterPERatio</th>\n",
       "      <th>StockYearlyReturn</th>\n",
       "    </tr>\n",
       "    <tr>\n",
       "      <th>Ticker</th>\n",
       "      <th></th>\n",
       "      <th></th>\n",
       "      <th></th>\n",
       "      <th></th>\n",
       "      <th></th>\n",
       "      <th></th>\n",
       "      <th></th>\n",
       "      <th></th>\n",
       "      <th></th>\n",
       "    </tr>\n",
       "  </thead>\n",
       "  <tbody>\n",
       "    <tr>\n",
       "      <th>RELIANCE</th>\n",
       "      <td>-0.054442</td>\n",
       "      <td>16.918115</td>\n",
       "      <td>-0.035184</td>\n",
       "      <td>2.062078</td>\n",
       "      <td>0.008595</td>\n",
       "      <td>1.403298</td>\n",
       "      <td>105.447040</td>\n",
       "      <td>150.562675</td>\n",
       "      <td>1.0822341291505968</td>\n",
       "    </tr>\n",
       "    <tr>\n",
       "      <th>TCS</th>\n",
       "      <td>-0.036290</td>\n",
       "      <td>21.207015</td>\n",
       "      <td>0.013951</td>\n",
       "      <td>10.026045</td>\n",
       "      <td>0.059796</td>\n",
       "      <td>0.499506</td>\n",
       "      <td>111.266764</td>\n",
       "      <td>123.458675</td>\n",
       "      <td>0.8663364408112684</td>\n",
       "    </tr>\n",
       "    <tr>\n",
       "      <th>HDFCBANK</th>\n",
       "      <td>0.189199</td>\n",
       "      <td>12.615259</td>\n",
       "      <td>0.053298</td>\n",
       "      <td>3.275359</td>\n",
       "      <td>0.004600</td>\n",
       "      <td>7.581893</td>\n",
       "      <td>82.675272</td>\n",
       "      <td>78.729925</td>\n",
       "      <td>0.7003078563035824</td>\n",
       "    </tr>\n",
       "    <tr>\n",
       "      <th>HINDUNILVR</th>\n",
       "      <td>0.010237</td>\n",
       "      <td>7.752899</td>\n",
       "      <td>0.050034</td>\n",
       "      <td>44.965158</td>\n",
       "      <td>0.069113</td>\n",
       "      <td>1.207085</td>\n",
       "      <td>272.991943</td>\n",
       "      <td>246.220238</td>\n",
       "      <td>0.1718235442570602</td>\n",
       "    </tr>\n",
       "    <tr>\n",
       "      <th>INFY</th>\n",
       "      <td>0.096902</td>\n",
       "      <td>0.142097</td>\n",
       "      <td>0.021209</td>\n",
       "      <td>411.825634</td>\n",
       "      <td>0.047656</td>\n",
       "      <td>0.421628</td>\n",
       "      <td>6035.149822</td>\n",
       "      <td>7387.059113</td>\n",
       "      <td>1.5638411726461723</td>\n",
       "    </tr>\n",
       "  </tbody>\n",
       "</table>\n",
       "</div>"
      ],
      "text/plain": [
       "            EPSGrowthInLastOneYear  AverageEPSforLastTwoYears  \\\n",
       "Ticker                                                          \n",
       "RELIANCE                 -0.054442                  16.918115   \n",
       "TCS                      -0.036290                  21.207015   \n",
       "HDFCBANK                  0.189199                  12.615259   \n",
       "HINDUNILVR                0.010237                   7.752899   \n",
       "INFY                      0.096902                   0.142097   \n",
       "\n",
       "            AverageRevenueGrowthForLastTwoYear  AnnualPBRatio  \\\n",
       "Ticker                                                          \n",
       "RELIANCE                             -0.035184       2.062078   \n",
       "TCS                                   0.013951      10.026045   \n",
       "HDFCBANK                              0.053298       3.275359   \n",
       "HINDUNILVR                            0.050034      44.965158   \n",
       "INFY                                  0.021209     411.825634   \n",
       "\n",
       "            Last2YearAvgROA  AnnualDebtEquityRatio  AnnualPERatio  \\\n",
       "Ticker                                                              \n",
       "RELIANCE           0.008595               1.403298     105.447040   \n",
       "TCS                0.059796               0.499506     111.266764   \n",
       "HDFCBANK           0.004600               7.581893      82.675272   \n",
       "HINDUNILVR         0.069113               1.207085     272.991943   \n",
       "INFY               0.047656               0.421628    6035.149822   \n",
       "\n",
       "            LastQuarterPERatio   StockYearlyReturn  \n",
       "Ticker                                              \n",
       "RELIANCE            150.562675  1.0822341291505968  \n",
       "TCS                 123.458675  0.8663364408112684  \n",
       "HDFCBANK             78.729925  0.7003078563035824  \n",
       "HINDUNILVR          246.220238  0.1718235442570602  \n",
       "INFY               7387.059113  1.5638411726461723  "
      ]
     },
     "execution_count": 2,
     "metadata": {},
     "output_type": "execute_result"
    }
   ],
   "source": [
    "df = pd.read_csv(rootFolder+'/data/top-nse-parameters.csv') \n",
    "df = df.drop([df.columns[0]], axis=1)\n",
    "df=df.set_index('Ticker')\n",
    "\n",
    "df.head()"
   ]
  },
  {
   "cell_type": "code",
   "execution_count": 25,
   "metadata": {},
   "outputs": [
    {
     "data": {
      "text/html": [
       "<div>\n",
       "<style scoped>\n",
       "    .dataframe tbody tr th:only-of-type {\n",
       "        vertical-align: middle;\n",
       "    }\n",
       "\n",
       "    .dataframe tbody tr th {\n",
       "        vertical-align: top;\n",
       "    }\n",
       "\n",
       "    .dataframe thead th {\n",
       "        text-align: right;\n",
       "    }\n",
       "</style>\n",
       "<table border=\"1\" class=\"dataframe\">\n",
       "  <thead>\n",
       "    <tr style=\"text-align: right;\">\n",
       "      <th></th>\n",
       "      <th>EPSGrowthInLastOneYear</th>\n",
       "      <th>AverageEPSforLastTwoYears</th>\n",
       "      <th>AverageRevenueGrowthForLastTwoYear</th>\n",
       "      <th>AnnualPBRatio</th>\n",
       "      <th>Last2YearAvgROA</th>\n",
       "      <th>AnnualDebtEquityRatio</th>\n",
       "      <th>AnnualPERatio</th>\n",
       "      <th>LastQuarterPERatio</th>\n",
       "      <th>StockYearlyReturn</th>\n",
       "    </tr>\n",
       "    <tr>\n",
       "      <th>Ticker</th>\n",
       "      <th></th>\n",
       "      <th></th>\n",
       "      <th></th>\n",
       "      <th></th>\n",
       "      <th></th>\n",
       "      <th></th>\n",
       "      <th></th>\n",
       "      <th></th>\n",
       "      <th></th>\n",
       "    </tr>\n",
       "  </thead>\n",
       "  <tbody>\n",
       "    <tr>\n",
       "      <th>RELIANCE</th>\n",
       "      <td>-0.054442</td>\n",
       "      <td>16.918115</td>\n",
       "      <td>-0.035184</td>\n",
       "      <td>2.062078</td>\n",
       "      <td>0.008595</td>\n",
       "      <td>1.403298</td>\n",
       "      <td>105.447040</td>\n",
       "      <td>0.0</td>\n",
       "      <td>0.0</td>\n",
       "    </tr>\n",
       "    <tr>\n",
       "      <th>TCS</th>\n",
       "      <td>-0.036290</td>\n",
       "      <td>21.207015</td>\n",
       "      <td>0.013951</td>\n",
       "      <td>10.026045</td>\n",
       "      <td>0.059796</td>\n",
       "      <td>0.499506</td>\n",
       "      <td>111.266764</td>\n",
       "      <td>0.0</td>\n",
       "      <td>0.0</td>\n",
       "    </tr>\n",
       "    <tr>\n",
       "      <th>HDFCBANK</th>\n",
       "      <td>0.189199</td>\n",
       "      <td>12.615259</td>\n",
       "      <td>0.053298</td>\n",
       "      <td>3.275359</td>\n",
       "      <td>0.004600</td>\n",
       "      <td>7.581893</td>\n",
       "      <td>82.675272</td>\n",
       "      <td>0.0</td>\n",
       "      <td>0.0</td>\n",
       "    </tr>\n",
       "    <tr>\n",
       "      <th>HINDUNILVR</th>\n",
       "      <td>0.010237</td>\n",
       "      <td>7.752899</td>\n",
       "      <td>0.050034</td>\n",
       "      <td>44.965158</td>\n",
       "      <td>0.069113</td>\n",
       "      <td>1.207085</td>\n",
       "      <td>272.991943</td>\n",
       "      <td>0.0</td>\n",
       "      <td>0.0</td>\n",
       "    </tr>\n",
       "    <tr>\n",
       "      <th>INFY</th>\n",
       "      <td>0.096902</td>\n",
       "      <td>0.142097</td>\n",
       "      <td>0.021209</td>\n",
       "      <td>411.825634</td>\n",
       "      <td>0.047656</td>\n",
       "      <td>0.421628</td>\n",
       "      <td>6035.149822</td>\n",
       "      <td>0.0</td>\n",
       "      <td>0.0</td>\n",
       "    </tr>\n",
       "  </tbody>\n",
       "</table>\n",
       "</div>"
      ],
      "text/plain": [
       "            EPSGrowthInLastOneYear  AverageEPSforLastTwoYears  \\\n",
       "Ticker                                                          \n",
       "RELIANCE                 -0.054442                  16.918115   \n",
       "TCS                      -0.036290                  21.207015   \n",
       "HDFCBANK                  0.189199                  12.615259   \n",
       "HINDUNILVR                0.010237                   7.752899   \n",
       "INFY                      0.096902                   0.142097   \n",
       "\n",
       "            AverageRevenueGrowthForLastTwoYear  AnnualPBRatio  \\\n",
       "Ticker                                                          \n",
       "RELIANCE                             -0.035184       2.062078   \n",
       "TCS                                   0.013951      10.026045   \n",
       "HDFCBANK                              0.053298       3.275359   \n",
       "HINDUNILVR                            0.050034      44.965158   \n",
       "INFY                                  0.021209     411.825634   \n",
       "\n",
       "            Last2YearAvgROA  AnnualDebtEquityRatio  AnnualPERatio  \\\n",
       "Ticker                                                              \n",
       "RELIANCE           0.008595               1.403298     105.447040   \n",
       "TCS                0.059796               0.499506     111.266764   \n",
       "HDFCBANK           0.004600               7.581893      82.675272   \n",
       "HINDUNILVR         0.069113               1.207085     272.991943   \n",
       "INFY               0.047656               0.421628    6035.149822   \n",
       "\n",
       "            LastQuarterPERatio  StockYearlyReturn  \n",
       "Ticker                                             \n",
       "RELIANCE                   0.0                0.0  \n",
       "TCS                        0.0                0.0  \n",
       "HDFCBANK                   0.0                0.0  \n",
       "HINDUNILVR                 0.0                0.0  \n",
       "INFY                       0.0                0.0  "
      ]
     },
     "execution_count": 25,
     "metadata": {},
     "output_type": "execute_result"
    }
   ],
   "source": [
    "#Cleaning data for NaN and inf\n",
    "df.dropna(inplace=True)\n",
    "indices_to_keep = ~df.isin([np.nan, np.inf, -np.inf]).any(1)\n",
    "df=df[indices_to_keep].astype(np.float64)\n",
    "df.head()"
   ]
  },
  {
   "cell_type": "code",
   "execution_count": 26,
   "metadata": {},
   "outputs": [
    {
     "name": "stdout",
     "output_type": "stream",
     "text": [
      "['EPSGrowthInLastOneYear', 'AverageEPSforLastTwoYears', 'AverageRevenueGrowthForLastTwoYear', 'AnnualPBRatio', 'Last2YearAvgROA', 'AnnualDebtEquityRatio', 'AnnualPERatio', 'LastQuarterPERatio', 'StockYearlyReturn']\n"
     ]
    }
   ],
   "source": [
    "tickers_list = list(df.index.values) #list of index\n",
    "para_list = list(df.columns) #list of attributes or parameters\n",
    "print(para_list)"
   ]
  },
  {
   "cell_type": "code",
   "execution_count": 27,
   "metadata": {},
   "outputs": [],
   "source": [
    "scaled_data = preprocessing.scale(df.T)"
   ]
  },
  {
   "cell_type": "code",
   "execution_count": 28,
   "metadata": {},
   "outputs": [],
   "source": [
    "pca = PCA()\n",
    "pca.fit(scaled_data)\n",
    "pca_data = pca.transform(scaled_data)"
   ]
  },
  {
   "cell_type": "code",
   "execution_count": 29,
   "metadata": {},
   "outputs": [
    {
     "data": {
      "image/png": "[encoded data removed]",
      "text/plain": [
       "<Figure size 432x288 with 1 Axes>"
      ]
     },
     "metadata": {},
     "output_type": "display_data"
    }
   ],
   "source": [
    "per_var = np.round(pca.explained_variance_ratio_* 100,decimals=1)\n",
    "labels = ['PC'+ str(x) for x in range(1,len(per_var)+1)]\n",
    "\n",
    "plt.bar(x=range(1,len(per_var)+1),height=per_var, tick_label=labels)\n",
    "plt.ylabel('Percentage of Explained Varience')\n",
    "plt.xlabel('Principal Component')\n",
    "plt.title('Scree Plot')\n",
    "plt.show()\n",
    "                                      "
   ]
  },
  {
   "cell_type": "markdown",
   "metadata": {},
   "source": [
    "#### approx 80% for PC1 means we can confidently reduce dimensionality to PC1,2 over x and y axis"
   ]
  },
  {
   "cell_type": "code",
   "execution_count": 30,
   "metadata": {},
   "outputs": [
    {
     "data": {
      "image/png": "[encoded data removed]",
      "text/plain": [
       "<Figure size 432x288 with 1 Axes>"
      ]
     },
     "metadata": {},
     "output_type": "display_data"
    }
   ],
   "source": [
    "pca_df = pd.DataFrame(pca_data, index=para_list, columns=labels)\n",
    "\n",
    "plt.scatter(pca_df.PC1, pca_df.PC2, s=40, c='coral')\n",
    "plt.title(\"PCA Graph\")\n",
    "plt.xlabel('PC1 - {0}%'.format(per_var[0]))\n",
    "plt.ylabel('PC2 - {0}%'.format(per_var[1]))\n",
    "#plt.figure(figsize=(9, 6))\n",
    "\n",
    "for sample in pca_df.index:\n",
    "    plt.annotate(sample, (pca_df.PC1.loc[sample], pca_df.PC2.loc[sample]))\n",
    "    #this loop adds names to the graph\n",
    "    \n",
    "plt.show()"
   ]
  },
  {
   "cell_type": "markdown",
   "metadata": {},
   "source": [
    "#### now we shall look at the loading scores for PC1 to determine which stocks had the largest influnce on separating the two clusters along the x axis "
   ]
  },
  {
   "cell_type": "code",
   "execution_count": 31,
   "metadata": {},
   "outputs": [
    {
     "name": "stdout",
     "output_type": "stream",
     "text": [
      "KIRLOSENG    0.030451\n",
      "PRECWIRE     0.030450\n",
      "NCLIND       0.030450\n",
      "JKIL         0.030450\n",
      "IFGLEXPOR    0.030450\n",
      "PRAKASH      0.030447\n",
      "NMDC         0.030447\n",
      "TVTODAY      0.030447\n",
      "TCI          0.030446\n",
      "JSWSTEEL     0.030446\n",
      "dtype: float64\n"
     ]
    }
   ],
   "source": [
    "loading_scores = pd.Series(pca.components_[0],index=tickers_list)\n",
    "sorted_loading_scores = loading_scores.abs().sort_values(ascending=False)\n",
    "\n",
    "top_10_stocks = sorted_loading_scores[0:10].index.values\n",
    "print(loading_scores[top_10_stocks])"
   ]
  },
  {
   "cell_type": "markdown",
   "metadata": {},
   "source": [
    "#### similar scores mean that a lot of stocks actually played a role in separating the samples, not just a few such as the top 10"
   ]
  },
  {
   "cell_type": "code",
   "execution_count": 32,
   "metadata": {},
   "outputs": [
    {
     "data": {
      "text/plain": [
       "(EPSGrowthInLastOneYear               -14.081980\n",
       " AverageEPSforLastTwoYears             -4.277922\n",
       " AverageRevenueGrowthForLastTwoYear   -13.157293\n",
       " AnnualPBRatio                        -10.757578\n",
       " Last2YearAvgROA                      -13.066465\n",
       " AnnualDebtEquityRatio                -10.985138\n",
       " AnnualPERatio                         92.543044\n",
       " LastQuarterPERatio                   -13.108334\n",
       " StockYearlyReturn                    -13.108334\n",
       " Name: PC1, dtype: float64,\n",
       " EPSGrowthInLastOneYear                -6.253442\n",
       " AverageEPSforLastTwoYears             31.227604\n",
       " AverageRevenueGrowthForLastTwoYear    -3.246153\n",
       " AnnualPBRatio                         -3.232295\n",
       " Last2YearAvgROA                       -3.228289\n",
       " AnnualDebtEquityRatio                 -6.099976\n",
       " AnnualPERatio                         -2.473373\n",
       " LastQuarterPERatio                    -3.347038\n",
       " StockYearlyReturn                     -3.347038\n",
       " Name: PC2, dtype: float64)"
      ]
     },
     "execution_count": 32,
     "metadata": {},
     "output_type": "execute_result"
    }
   ],
   "source": [
    "pca_df.PC1,pca_df.PC2"
   ]
  }
 ],
 "metadata": {
  "kernelspec": {
   "display_name": "Python 3",
   "language": "python",
   "name": "python3"
  },
  "language_info": {
   "codemirror_mode": {
    "name": "ipython",
    "version": 3
   },
   "file_extension": ".py",
   "mimetype": "text/x-python",
   "name": "python",
   "nbconvert_exporter": "python",
   "pygments_lexer": "ipython3",
   "version": "3.8.5"
  }
 },
 "nbformat": 4,
 "nbformat_minor": 4
}
