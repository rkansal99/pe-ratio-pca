{
 "cells": [
  {
   "cell_type": "code",
   "execution_count": 1,
   "metadata": {
    "scrolled": true
   },
   "outputs": [],
   "source": [
    "import pandas as pd\n",
    "from pandas.core.reshape.merge import merge\n",
    "from datetime import datetime\n",
    "import datetime as dt\n",
    "\n",
    "current_date=str(\"2021-03-18\")\n",
    "\n",
    "api_key = 'demo' #ENTER KEY OF FMP\n",
    "\n",
    "rootFolder='/Users/rishabhkansal/repos/pe-ratio-pca' \n"
   ]
  },
  {
   "cell_type": "markdown",
   "metadata": {},
   "source": [
    "## Step 1: Data Collection\n",
    "### Collecting paramenters using FMP API\n",
    "\n",
    "#### PS: for code looking into directory called \"fmp-data: --> please understand that I purchased the premium key for Financial modelling prep and called all the requests mentioned in the docs and stored the data in my original repo, I cannot share that data as it is proprietary.. you can collect similar data using the FMP API (link below).. this project is anyway concerning the PCA results and not how I actually collected the data.. \n",
    "\n",
    "##### Also, the parameters that I used for running PCA are available in this repo under <data/top-nse-parameters>\n",
    "\n",
    "##### https://financialmodelingprep.com/developer/docs/"
   ]
  },
  {
   "cell_type": "code",
   "execution_count": 2,
   "metadata": {},
   "outputs": [],
   "source": [
    "#Global dictionaries - WE ARE RUNNING THIS EVERY TIME TO EMPTY THE DICTS\n",
    "def create():\n",
    "    \n",
    "    global eps_growth\n",
    "    eps_growth = {}\n",
    "    global eps_growth_error\n",
    "    eps_growth_error = dict()\n",
    "\n",
    "    global avg_eps\n",
    "    avg_eps = {}\n",
    "    global avg_eps_error\n",
    "    avg_eps_error = dict()\n",
    "\n",
    "    global avg_revenue_growth_2Y\n",
    "    avg_revenue_growth_2Y = {}\n",
    "    global avg_revenue_growth_2Y_error\n",
    "    avg_revenue_growth_2Y_error = {}\n",
    "\n",
    "    global annual_pb_ratio\n",
    "    annual_pb_ratio = {}\n",
    "    global annual_pb_ratio_error\n",
    "    annual_pb_ratio_error = {}\n",
    "    \n",
    "    global last_2Y_avg_ROA\n",
    "    last_2Y_avg_ROA = dict()\n",
    "    global last_2Y_avg_ROA_error\n",
    "    last_2Y_avg_ROA_error = {}\n",
    "    \n",
    "    global annual_debt_equity_ratio\n",
    "    annual_debt_equity_ratio=dict()\n",
    "    global annual_debt_equity_ratio_error\n",
    "    annual_debt_equity_ratio_error=dict()\n",
    "    \n",
    "    global annual_pe_ratio\n",
    "    annual_pe_ratio=dict()\n",
    "    global annual_pe_ratio_error\n",
    "    annual_pe_ratio_error={}\n",
    "    \n",
    "    global last_quarter_pe\n",
    "    global last_quarter_pe_error\n",
    "    last_quarter_pe=dict()\n",
    "    last_quarter_pe_error=dict()\n",
    "    \n",
    "    global stock_yearly_return\n",
    "    global stock_yearly_return_error\n",
    "    stock_yearly_return=dict()\n",
    "    stock_yearly_return_error=dict()"
   ]
  },
  {
   "cell_type": "code",
   "execution_count": 3,
   "metadata": {},
   "outputs": [],
   "source": [
    "def getEPSGrowthInLastOneYear(ticker):\n",
    "    \n",
    "    tickername = str(ticker[:-3])\n",
    "    \n",
    "    try:\n",
    "        df=pd.read_csv(rootFolder+'/fmp-data/income-statement/quarterly-income-statement/'+tickername+'_quarterly_income_statement.csv')\n",
    "        EPSGrowthInLastOneYear=(df['eps'][0]+df['eps'][1]+df['eps'][2]+df['eps'][3]-(df['eps'][4]+df['eps'][5]+df['eps'][6]+df['eps'][7]))/(df['eps'][4]+df['eps'][5]+df['eps'][6]+df['eps'][7])\n",
    "        \n",
    "    except Exception as e:\n",
    "        eps_growth_error[tickername]=repr(e)\n",
    "        \n",
    "    else:\n",
    "        #return eps_growth\n",
    "        eps_growth[tickername] = EPSGrowthInLastOneYear\n"
   ]
  },
  {
   "cell_type": "code",
   "execution_count": 4,
   "metadata": {},
   "outputs": [],
   "source": [
    "def getAverageEPSforLastTwoYears(ticker):\n",
    "    \n",
    "    tickername = str(ticker[:-3])\n",
    "    \n",
    "    try:\n",
    "        df=pd.read_csv(rootFolder+'/fmp-data/income-statement/quarterly-income-statement/'+tickername+'_quarterly_income_statement.csv')\n",
    "        average2YearEPS=(df['eps'][0]+df['eps'][1]+df['eps'][2]+df['eps'][3]+df['eps'][4]+df['eps'][5]+df['eps'][6]+df['eps'][7])/8\n",
    "    \n",
    "    except Exception as e:\n",
    "        avg_eps_error[tickername]=repr(e)\n",
    "    \n",
    "    else:\n",
    "        #return eps_growth\n",
    "        avg_eps[tickername] = average2YearEPS"
   ]
  },
  {
   "cell_type": "code",
   "execution_count": 5,
   "metadata": {},
   "outputs": [],
   "source": [
    "def getAverageRevenueGrowthForLastTwoYear(ticker):\n",
    "    tickername = str(ticker[:-3])\n",
    "    \n",
    "    try:\n",
    "        df=pd.read_csv(rootFolder+'/fmp-data/financial-growth/quarterly-financial-growth/'+tickername +'_quarterly_fg.csv')\n",
    "        averageRevenueGrowth=(df['revenueGrowth'][0]+df['revenueGrowth'][1]+df['revenueGrowth'][2]+df['revenueGrowth'][3])/4\n",
    "    except Exception as e:\n",
    "        avg_revenue_growth_2Y_error[tickername]=repr(e)\n",
    "    else:\n",
    "        avg_revenue_growth_2Y[tickername] = averageRevenueGrowth\n",
    "    "
   ]
  },
  {
   "cell_type": "code",
   "execution_count": 6,
   "metadata": {},
   "outputs": [],
   "source": [
    "def getAnnualPBRatio(ticker):\n",
    "    tickername = str(ticker[:-3])\n",
    "    \n",
    "    try:\n",
    "        df=pd.read_csv(rootFolder+'/fmp-data/financial-ratios/quarterly-ratios/'+tickername+'_quarterly_ratios.csv')\n",
    "        annualPBRatio=(df['priceBookValueRatio'][0]+df['priceBookValueRatio'][1]+df['priceBookValueRatio'][2]+df['priceBookValueRatio'][3])/4\n",
    "    \n",
    "    except Exception as e:\n",
    "        annual_pb_ratio_error[tickername]=repr(e)\n",
    "    \n",
    "    else:\n",
    "        annual_pb_ratio[tickername] = annualPBRatio"
   ]
  },
  {
   "cell_type": "code",
   "execution_count": 7,
   "metadata": {},
   "outputs": [],
   "source": [
    "def getLast2YearAvgROA(ticker):\n",
    "    tickername = str(ticker[:-3])\n",
    "    try:\n",
    "        df=pd.read_csv(rootFolder+'/fmp-data/financial-ratios/quarterly-ratios/'+tickername+'_quarterly_ratios.csv')\n",
    "        Last2YearAvgROA=(df['returnOnAssets'][0]+df['returnOnAssets'][1]+df['returnOnAssets'][2]+df['returnOnAssets'][3])/4\n",
    "    except Exception as e:\n",
    "        last_2Y_avg_ROA_error[tickername]=repr(e)\n",
    "    else:\n",
    "        last_2Y_avg_ROA[tickername] = Last2YearAvgROA\n"
   ]
  },
  {
   "cell_type": "code",
   "execution_count": 8,
   "metadata": {},
   "outputs": [],
   "source": [
    "def getAnnualDebtEquityRatio(ticker):\n",
    "    tickername = str(ticker[:-3])\n",
    "    try:\n",
    "        df=pd.read_csv(rootFolder+'/fmp-data/financial-ratios/quarterly-ratios/'+tickername+'_quarterly_ratios.csv')\n",
    "        annualDebtEquityRatio=(df['debtEquityRatio'][0]+df['debtEquityRatio'][1]+df['debtEquityRatio'][2]+df['debtEquityRatio'][3])/4\n",
    "    except Exception as e:\n",
    "        annual_debt_equity_ratio_error[tickername]=repr(e)\n",
    "    else:\n",
    "        annual_debt_equity_ratio[tickername]=annualDebtEquityRatio"
   ]
  },
  {
   "cell_type": "code",
   "execution_count": 9,
   "metadata": {},
   "outputs": [],
   "source": [
    "def getAnnualPERatio(ticker):\n",
    "    tickername = str(ticker[:-3])\n",
    "    try:\n",
    "        df=pd.read_csv(rootFolder+'/fmp-data/financial-ratios/quarterly-ratios/'+tickername+'_quarterly_ratios.csv')\n",
    "        annualpriceEarningsRatio=(df['priceEarningsRatio'][0]+df['priceEarningsRatio'][1]+df['priceEarningsRatio'][2]+df['priceEarningsRatio'][3])/4\n",
    "    except Exception as e:\n",
    "        annual_pe_ratio_error[tickername]=repr(e)\n",
    "    else:\n",
    "        annual_pe_ratio[tickername]=annualpriceEarningsRatio"
   ]
  },
  {
   "cell_type": "code",
   "execution_count": 10,
   "metadata": {},
   "outputs": [],
   "source": [
    "def getLastQuarterPERatio(ticker):\n",
    "    tickername = str(ticker[:-3])\n",
    "    \n",
    "    \n",
    "    try:\n",
    "        df=pd.read_csv(rootFolder+'/fmp-data/financial-ratios/quarterly-ratios/'+tickername+'_quarterly_ratios.csv')\n",
    "        LastQuarterpriceEarningsRatio=df['priceEarningsRatio'][0]\n",
    "    except Exception as e:\n",
    "        last_quarter_pe_error[tickername]=repr(e)\n",
    "    else:\n",
    "        last_quarter_pe[tickername]=LastQuarterpriceEarningsRatio\n",
    "   "
   ]
  },
  {
   "cell_type": "code",
   "execution_count": 11,
   "metadata": {},
   "outputs": [],
   "source": [
    "#Havent used these to gather data directly\n",
    "def getStockPriceOnDate(ticker,date):\n",
    "    tickername = str(ticker[:-3])\n",
    "    #print('Stock Price history for' + tickername )\n",
    "    df=pd.read_csv(rootFolder+'/fmp-data/company-5YearStockPriceHistory/'+tickername+'_5YearStockPriceHistory.csv')\n",
    "    rslt_df = df[df['date']==date]\n",
    "   # print((rslt_df['adjClose']).squeeze())\n",
    "    if(rslt_df.empty):\n",
    "        date2=(datetime.strptime(date, '%Y-%m-%d')-dt.timedelta(days=1)).date()\n",
    "        date2=str(date2)\n",
    "        rslt_df2 = getStockPriceOnDate(ticker,date2)\n",
    "        #return rslt_df2\n",
    "                 \n",
    "    #print(\"Stock price of ticker\"+tickername)\n",
    "    return rslt_df['adjClose'].squeeze()\n",
    "\n",
    "def getBSE500IndexValueOnDate(date):\n",
    "    df=pd.read_csv(rootFolder+'/Indices CSV Data/BSE500_2016TO2020.csv')\n",
    "    rslt_df = df[df['date']==date]\n",
    "    if(rslt_df.empty):\n",
    "        date2=(datetime.strptime(date, '%Y-%m-%d')-dt.timedelta(days=1)).date()\n",
    "        date2=str(date2)\n",
    "        rslt_df2 = getBSE500IndexValueOnDate(date2)\n",
    "        return rslt_df2\n",
    "                 \n",
    "    \n",
    "    return rslt_df['Close'].squeeze()\n",
    "\n",
    "def getBSE500QuarterlyReturn():\n",
    "   \n",
    "    date1=str((datetime.strptime(current_date,'%Y-%m-%d')-dt.timedelta(days=92)).date())\n",
    "    date2=str((datetime.strptime(current_date,'%Y-%m-%d')).date())\n",
    "    value1= getBSE500IndexValueOnDate(date1)\n",
    "    value2= getBSE500IndexValueOnDate(date2)\n",
    "    \n",
    "    \n",
    "    return((value2-value1)/value1)\n",
    "\n",
    "def getBSE500YearlyReturn():\n",
    "   \n",
    "    date1=str((datetime.strptime(current_date,'%Y-%m-%d')-dt.timedelta(days=365)).date())\n",
    "    date2=str((datetime.strptime(current_date,'%Y-%m-%d')).date())\n",
    "    value1= getBSE500IndexValueOnDate(date1)\n",
    "    value2= getBSE500IndexValueOnDate(date2)\n",
    "    \n",
    "    \n",
    "    return((value2-value1)/value1)\n",
    "\n",
    "def getStockWeeklyReturn(ticker):\n",
    "    tickername = str(ticker[:-3])\n",
    "    ###   hard coded date is being used #############################\n",
    "    \n",
    "    date1=str((datetime.strptime(current_date,'%Y-%m-%d')-dt.timedelta(days=7)).date())\n",
    "    date2=str((datetime.strptime(current_date,'%Y-%m-%d')).date())\n",
    "    print (date1)\n",
    "    print(date2)\n",
    "    price1= getStockPriceOnDate(ticker,date1)\n",
    "    price2= getStockPriceOnDate(ticker,date2)\n",
    "    \n",
    "    \n",
    "    print((price2-price1)/price1)\n",
    "                           \n",
    "   \n",
    "    return (price2-price1)/price1"
   ]
  },
  {
   "cell_type": "code",
   "execution_count": 12,
   "metadata": {},
   "outputs": [],
   "source": [
    "def getStockYearlyReturn(ticker):\n",
    "    tickername = str(ticker[:-3])\n",
    "    '''date1=str((datetime.strptime(current_date,'%Y-%m-%d')-dt.timedelta(days=365)).date())\n",
    "    date2=str((datetime.strptime(current_date,'%Y-%m-%d')).date())\n",
    "        #print (date1)\n",
    "        #print(date2)\n",
    "    price1= getStockPriceOnDate(ticker,date1)\n",
    "    price2= getStockPriceOnDate(ticker,date2)\n",
    "    a=(price2-price1)/price1\n",
    "    stock_yearly_return[tickername]=a\n",
    "        '''\n",
    "    ###   hard coded date is being used #############################\n",
    "    try:\n",
    "        date1=str((datetime.strptime(current_date,'%Y-%m-%d')-dt.timedelta(days=365)).date())\n",
    "        date2=str((datetime.strptime(current_date,'%Y-%m-%d')).date())\n",
    "        #print (date1)\n",
    "        #print(date2)\n",
    "        price1= getStockPriceOnDate(ticker,date1)\n",
    "        price2= getStockPriceOnDate(ticker,date2)\n",
    "        a=(price2-price1)/price1\n",
    "        stock_yearly_return[tickername]=a\n",
    "        \n",
    "    except Exception as e:\n",
    "        stock_yearly_return_error[tickername]=repr(e)\n",
    "    \n",
    "    else:\n",
    "        stock_yearly_return[tickername]=a\n",
    "    "
   ]
  },
  {
   "cell_type": "code",
   "execution_count": 13,
   "metadata": {},
   "outputs": [],
   "source": [
    "def run(ticker):\n",
    "    \n",
    "    getEPSGrowthInLastOneYear(ticker)\n",
    "    getAverageEPSforLastTwoYears(ticker)\n",
    "    getAverageRevenueGrowthForLastTwoYear(ticker)\n",
    "    getAnnualPBRatio(ticker)\n",
    "    getLast2YearAvgROA(ticker)\n",
    "    getAnnualDebtEquityRatio(ticker)\n",
    "    getAnnualPERatio(ticker)\n",
    "    getLastQuarterPERatio(ticker)\n",
    "    getStockYearlyReturn(ticker)"
   ]
  },
  {
   "cell_type": "code",
   "execution_count": 15,
   "metadata": {},
   "outputs": [
    {
     "name": "stderr",
     "output_type": "stream",
     "text": [
      "/Users/rishabhkansal/opt/anaconda3/lib/python3.8/site-packages/IPython/core/interactiveshell.py:3146: DtypeWarning: Columns (6,7,8,11,12,13,16,17,18,21,22,23,26,27,28,31,32,33,36,37,38,41,42,43,46,47,48,51,52,53,56,57,58,61,62,63,66,67,68,71,72,73,76,77,78,81,82,83,86,87,88,91,92,93,96,97,98,101,102,103,106,107,108,111,112,113,116,117,118,121,122,123,126,127,128,131,132,133,136,137,138,141,142,143,146,147,148,151,152,153,156,157,158,161,162,163,166,167,168,171,172,173,176,177,178,181,182,183,186,187,188,191,192,193,196,197,198,201,202,203,206,207,208,211,212,213,216,217,218,221,222,223,226,227,228,231,232,233,236,237,238,241,242,243,246,247,248,251,252,253,256,257,258,261,262,263,266,267,268,271,272,273,276,277,278,281,282,283,286,287,288,291,292,293,296,297,298,301,302,303,306,307,308,311,312,313,316,317,318,321,322,323,326,327,328,331,332,333,336,337,338,341,342,343,346,347,348,351,352,353,356,357,358,361,362,363,366,367,368,371,372,373,376,377,378,381,382,383,386,387,388,391,392,393,396,397,398,401,402,403,406,407,408,411,412,413,416,417,418,421,422,423,426,427,428,431,432,433,436,437,438,441,442,443,446,447,448,451,452,453,456,457,458,461,462,463,466,467,468,471,472,473,476,477,478,481,482,483,486,487,488,491,492,493,496,497,498,501,502,503,506,507,508,511,512,513,516,517,518,521,522,523,526,527,528,531,532,533,536,537,538,541,542,543,546,547,548,551,552,553,556,557,558,561,562,563,566,567,568,571,572,573,576,577,578,581,582,583,586,587,588,591,592,593,596,597,598,601,602,603,606,607,608,611,612,613,616,617,618,621,622,623,626,627,628,631,632,633,636,637,638,641,642,643,646,647,648,651,652,653,656,657,658,661,662,663,666,667,668,671,672,673,676,677,678,681,682,683,686,687,688,691,692,693,696,697,698,701,702,703,706,707,708,711,712,713,716,717,718,721,722,723,726,727,728,731,732,733,736,737,738,741,742,743,746,747,748,751,752,753,756,757,758,761,762,763,766,767,768,771,772,773,776,777,778,781,782,783,786,787,788,791,792,793,796,797,798,801,802,803,806,807,808,811,812,813,816,817,818,821,822,823,826,827,828,831,832,833,836,837,838,841,842,843,846,847,848,851,852,853,856,857,858,861,862,863,866,867,868,871,872,873,876,877,878,881,882,883,886,887,888,891,892,893,896,897,898,901,902,903,906,907,908,911,912,913,916,917,918,921,922,923,926,927,928,931,932,933,936,937,938,941,942,943,946,947,948,951,952,953,956,957,958,961,962,963,966,967,968,971,972,973,976,977,978,981,982,983,986,987,988,991,992,993,996,997,998,1001,1002,1003,1006,1007,1008,1011,1012,1013,1016,1017,1018,1021,1022,1023) have mixed types.Specify dtype option on import or set low_memory=False.\n",
      "  has_raised = await self.run_ast_nodes(code_ast.body, cell_name,\n"
     ]
    },
    {
     "name": "stdout",
     "output_type": "stream",
     "text": [
      "Preparing data for:  1733 stocks\n",
      "\n",
      "\n"
     ]
    },
    {
     "name": "stderr",
     "output_type": "stream",
     "text": [
      "<ipython-input-3-15f4fcacddcf>:7: RuntimeWarning: invalid value encountered in double_scalars\n",
      "  EPSGrowthInLastOneYear=(df['eps'][0]+df['eps'][1]+df['eps'][2]+df['eps'][3]-(df['eps'][4]+df['eps'][5]+df['eps'][6]+df['eps'][7]))/(df['eps'][4]+df['eps'][5]+df['eps'][6]+df['eps'][7])\n"
     ]
    },
    {
     "name": "stdout",
     "output_type": "stream",
     "text": [
      "EPS Growth not acquired for: 391\n",
      "Avg Eps last 2 years error list:  391\n",
      "Average Revenue Growth For Last Two Year ERRORS: 384\n",
      "annual pb ratio errors: 449\n",
      "Last 2Year Avg ROA errors: 449\n",
      "Annual Debt Equity Ratio errors: 449\n",
      "Annual PE Ratio Errors: 449\n",
      "LastQuarterPERatio errors:  379\n",
      "StockYearlyReturn error:  363\n"
     ]
    },
    {
     "data": {
      "text/plain": [
       "'print(\"EPS Growth: \",eps_growth,\"\\n\")\\nprint(\"EPS Growth not acquired for:\",eps_growth_error)\\nprint(\"\\n\\n\")\\n\\nprint(\"Avg eps for last 2 years: \",avg_eps,\"\\n\")\\nprint(\"Avg Eps last 2 years error list: \",avg_eps_error)\\nprint(\"\\n\\n\")\\n\\nprint(\"Average Revenue Growth For Last Two Year:: \", avg_revenue_growth_2Y,\"\\n\")\\nprint(\"Average Revenue Growth For Last Two Year ERRORS:\",avg_revenue_growth_2Y_error )\\nprint(\"\\n\\n\")\\n\\nprint(\"Annual PB growth:\", annual_pb_ratio,\"\\n\")\\nprint(\"annual pb ratio errors:\",annual_pb_ratio_error,\\'\\n\\n\\')\\n\\nprint(\"Last 2Year Avg ROA:\",last_2Y_avg_ROA,\"\\n\")\\nprint(\"Last 2Year Avg ROA errors:\",last_2Y_avg_ROA_error,\"\\n\\n\")\\n\\nprint(\"Annual Debt Equity Ratio:\",annual_debt_equity_ratio,\"\\n\")\\nprint(\"Annual Debt Equity Ratio errors:\",annual_debt_equity_ratio_error,\"\\n\\n\")\\n\\nprint(\"Annual PE Ratio:\",annual_pe_ratio,\"\\n\")\\nprint(\"Annual PE Ratio Errors:\",annual_pe_ratio_error,\"\\n\\n\")\\n'"
      ]
     },
     "execution_count": 15,
     "metadata": {},
     "output_type": "execute_result"
    }
   ],
   "source": [
    "df = pd.read_csv(rootFolder+'/nse-list/TopNSECompaniesByMarketCap.csv') \n",
    "tickers = list(df['Ticker'])\n",
    "\n",
    "#tickers = tickers[635:1000] #Run for 50 instead of 10 to see one more error\n",
    "\n",
    "create()\n",
    "\n",
    "print(\"Preparing data for: \",len(tickers),\"stocks\\n\\n\")\n",
    "\n",
    "for i in range(len(tickers)):\n",
    "    run(tickers[i])\n",
    "    \n",
    "print(\"EPS Growth not acquired for:\",len(eps_growth_error))\n",
    "print(\"Avg Eps last 2 years error list: \",len(avg_eps_error))\n",
    "print(\"Average Revenue Growth For Last Two Year ERRORS:\",len(avg_revenue_growth_2Y_error))\n",
    "print(\"annual pb ratio errors:\",len(annual_pb_ratio_error))\n",
    "print(\"Last 2Year Avg ROA errors:\",len(last_2Y_avg_ROA_error))\n",
    "print(\"Annual Debt Equity Ratio errors:\",len(annual_debt_equity_ratio_error))\n",
    "print(\"Annual PE Ratio Errors:\",len(annual_pe_ratio_error))\n",
    "print(\"LastQuarterPERatio errors: \",len(last_quarter_pe_error))\n",
    "print(\"StockYearlyReturn error: \",len(stock_yearly_return_error))\n",
    "\n",
    "'''print(\"EPS Growth: \",eps_growth,\"\\n\")\n",
    "print(\"EPS Growth not acquired for:\",eps_growth_error)\n",
    "print(\"\\n\\n\")\n",
    "\n",
    "print(\"Avg eps for last 2 years: \",avg_eps,\"\\n\")\n",
    "print(\"Avg Eps last 2 years error list: \",avg_eps_error)\n",
    "print(\"\\n\\n\")\n",
    "\n",
    "print(\"Average Revenue Growth For Last Two Year:: \", avg_revenue_growth_2Y,\"\\n\")\n",
    "print(\"Average Revenue Growth For Last Two Year ERRORS:\",avg_revenue_growth_2Y_error )\n",
    "print(\"\\n\\n\")\n",
    "\n",
    "print(\"Annual PB growth:\", annual_pb_ratio,\"\\n\")\n",
    "print(\"annual pb ratio errors:\",annual_pb_ratio_error,'\\n\\n')\n",
    "\n",
    "print(\"Last 2Year Avg ROA:\",last_2Y_avg_ROA,\"\\n\")\n",
    "print(\"Last 2Year Avg ROA errors:\",last_2Y_avg_ROA_error,\"\\n\\n\")\n",
    "\n",
    "print(\"Annual Debt Equity Ratio:\",annual_debt_equity_ratio,\"\\n\")\n",
    "print(\"Annual Debt Equity Ratio errors:\",annual_debt_equity_ratio_error,\"\\n\\n\")\n",
    "\n",
    "print(\"Annual PE Ratio:\",annual_pe_ratio,\"\\n\")\n",
    "print(\"Annual PE Ratio Errors:\",annual_pe_ratio_error,\"\\n\\n\")\n",
    "'''"
   ]
  },
  {
   "cell_type": "markdown",
   "metadata": {},
   "source": [
    "## Step 2: Generating CSV"
   ]
  },
  {
   "cell_type": "code",
   "execution_count": 16,
   "metadata": {},
   "outputs": [
    {
     "name": "stdout",
     "output_type": "stream",
     "text": [
      "       Ticker  EPSGrowthInLastOneYear  AverageEPSforLastTwoYears  \\\n",
      "0    RELIANCE               -0.054442                  16.918115   \n",
      "1         TCS               -0.036290                  21.207015   \n",
      "2    HDFCBANK                0.189199                  12.615259   \n",
      "3  HINDUNILVR                0.010237                   7.752899   \n",
      "4        INFY                0.096902                   0.142097   \n",
      "\n",
      "   AverageRevenueGrowthForLastTwoYear  AnnualPBRatio  Last2YearAvgROA  \\\n",
      "0                           -0.035184       2.062078         0.008595   \n",
      "1                            0.013951      10.026045         0.059796   \n",
      "2                            0.053298       3.275359         0.004600   \n",
      "3                            0.050034      44.965158         0.069113   \n",
      "4                            0.021209     411.825634         0.047656   \n",
      "\n",
      "   AnnualDebtEquityRatio  AnnualPERatio  LastQuarterPERatio StockYearlyReturn  \n",
      "0               1.403298     105.447040          150.562675           1.08223  \n",
      "1               0.499506     111.266764          123.458675          0.866336  \n",
      "2               7.581893      82.675272           78.729925          0.700308  \n",
      "3               1.207085     272.991943          246.220238          0.171824  \n",
      "4               0.421628    6035.149822         7387.059113           1.56384  \n"
     ]
    }
   ],
   "source": [
    "#eps_growth, avg_eps, avg_revenue_growth_2Y, annual_pb_ratio, last_2Y_avg_ROA, annual_debt_equity_ratio, annual_pe_ratio\n",
    "tickername = []\n",
    "for i in range(len(tickers)):\n",
    "    tickername.append(str(tickers[i][:-3]))\n",
    "\n",
    "columns = ['Ticker','EPSGrowthInLastOneYear','AverageEPSforLastTwoYears','AverageRevenueGrowthForLastTwoYear','AnnualPBRatio','Last2YearAvgROA','AnnualDebtEquityRatio','AnnualPERatio','LastQuarterPERatio','StockYearlyReturn']\n",
    "l = list()\n",
    "for i in range(len(tickername)):\n",
    "   \n",
    "    data = {'Ticker':tickername[i],\n",
    "            'EPSGrowthInLastOneYear':eps_growth.get(str(tickername[i]),0.0),\n",
    "            'AverageEPSforLastTwoYears':avg_eps.get(str(tickername[i]),0.0),\n",
    "            'AverageRevenueGrowthForLastTwoYear':avg_revenue_growth_2Y.get(str(tickername[i]),0.0),\n",
    "            'AnnualPBRatio':annual_pb_ratio.get(str(tickername[i]),0.0),\n",
    "            'Last2YearAvgROA':last_2Y_avg_ROA.get(str(tickername[i]),0.0),\n",
    "            'AnnualDebtEquityRatio':annual_debt_equity_ratio.get(str(tickername[i]),0.0),\n",
    "            'AnnualPERatio':annual_pe_ratio.get(str(tickername[i]),0.0),\n",
    "            'LastQuarterPERatio':last_quarter_pe.get(str(tickername[i]),0.0),\n",
    "            'StockYearlyReturn':stock_yearly_return.get(str(tickername[i]),0.0)\n",
    "           }\n",
    "    l.append(data)\n",
    "   # para_df = pd.DataFrame(data)\n",
    "   # df=df.merge(para_df,on='Ticker',how='left')\n",
    "\n",
    "df = pd.DataFrame(l)\n",
    "print(df.head())\n",
    "df.to_csv(rootFolder+'/data/top-nse-parameters.csv')\n",
    "    \n",
    "    "
   ]
  },
  {
   "cell_type": "code",
   "execution_count": null,
   "metadata": {},
   "outputs": [],
   "source": []
  }
 ],
 "metadata": {
  "kernelspec": {
   "display_name": "Python 3",
   "language": "python",
   "name": "python3"
  },
  "language_info": {
   "codemirror_mode": {
    "name": "ipython",
    "version": 3
   },
   "file_extension": ".py",
   "mimetype": "text/x-python",
   "name": "python",
   "nbconvert_exporter": "python",
   "pygments_lexer": "ipython3",
   "version": "3.8.5"
  }
 },
 "nbformat": 4,
 "nbformat_minor": 4
}
